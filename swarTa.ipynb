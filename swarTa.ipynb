{
 "cells": [
  {
   "cell_type": "code",
   "execution_count": 1,
   "metadata": {},
   "outputs": [
    {
     "name": "stdout",
     "output_type": "stream",
     "text": [
      "Collecting pymupdf\n",
      "  Downloading PyMuPDF-1.24.10-cp312-none-win_amd64.whl.metadata (3.4 kB)\n",
      "Collecting python-docx\n",
      "  Downloading python_docx-1.1.2-py3-none-any.whl.metadata (2.0 kB)\n",
      "Collecting PyMuPDFb==1.24.10 (from pymupdf)\n",
      "  Downloading PyMuPDFb-1.24.10-py3-none-win_amd64.whl.metadata (1.4 kB)\n",
      "Collecting lxml>=3.1.0 (from python-docx)\n",
      "  Using cached lxml-5.3.0-cp312-cp312-win_amd64.whl.metadata (3.9 kB)\n",
      "Requirement already satisfied: typing-extensions>=4.9.0 in d:\\anupam\\imagecolordetector\\gro\\myenv\\lib\\site-packages (from python-docx) (4.12.2)\n",
      "Downloading PyMuPDF-1.24.10-cp312-none-win_amd64.whl (3.2 MB)\n",
      "   ---------------------------------------- 0.0/3.2 MB ? eta -:--:--\n",
      "   ---------------------------------------- 0.0/3.2 MB 1.4 MB/s eta 0:00:03\n",
      "   - -------------------------------------- 0.1/3.2 MB 1.3 MB/s eta 0:00:03\n",
      "   ----- ---------------------------------- 0.5/3.2 MB 3.7 MB/s eta 0:00:01\n",
      "   ----------- ---------------------------- 1.0/3.2 MB 6.1 MB/s eta 0:00:01\n",
      "   ----------- ---------------------------- 1.0/3.2 MB 6.1 MB/s eta 0:00:01\n",
      "   ------------ --------------------------- 1.0/3.2 MB 3.9 MB/s eta 0:00:01\n",
      "   ------------------- -------------------- 1.6/3.2 MB 5.1 MB/s eta 0:00:01\n",
      "   -------------------------- ------------- 2.2/3.2 MB 6.0 MB/s eta 0:00:01\n",
      "   --------------------------------- ------ 2.7/3.2 MB 6.9 MB/s eta 0:00:01\n",
      "   ---------------------------------------  3.2/3.2 MB 7.4 MB/s eta 0:00:01\n",
      "   ---------------------------------------- 3.2/3.2 MB 7.1 MB/s eta 0:00:00\n",
      "Downloading PyMuPDFb-1.24.10-py3-none-win_amd64.whl (13.2 MB)\n",
      "   ---------------------------------------- 0.0/13.2 MB ? eta -:--:--\n",
      "   - -------------------------------------- 0.4/13.2 MB 12.2 MB/s eta 0:00:02\n",
      "   -- ------------------------------------- 0.9/13.2 MB 11.9 MB/s eta 0:00:02\n",
      "   ---- ----------------------------------- 1.5/13.2 MB 12.0 MB/s eta 0:00:01\n",
      "   ------ --------------------------------- 2.1/13.2 MB 12.0 MB/s eta 0:00:01\n",
      "   ------- -------------------------------- 2.6/13.2 MB 11.9 MB/s eta 0:00:01\n",
      "   --------- ------------------------------ 3.2/13.2 MB 11.9 MB/s eta 0:00:01\n",
      "   ----------- ---------------------------- 3.7/13.2 MB 11.8 MB/s eta 0:00:01\n",
      "   ------------ --------------------------- 4.2/13.2 MB 11.8 MB/s eta 0:00:01\n",
      "   -------------- ------------------------- 4.8/13.2 MB 11.8 MB/s eta 0:00:01\n",
      "   ---------------- ----------------------- 5.3/13.2 MB 11.7 MB/s eta 0:00:01\n",
      "   ----------------- ---------------------- 5.9/13.2 MB 11.7 MB/s eta 0:00:01\n",
      "   ------------------- -------------------- 6.4/13.2 MB 11.7 MB/s eta 0:00:01\n",
      "   --------------------- ------------------ 7.0/13.2 MB 11.7 MB/s eta 0:00:01\n",
      "   ---------------------- ----------------- 7.5/13.2 MB 11.7 MB/s eta 0:00:01\n",
      "   ------------------------ --------------- 8.0/13.2 MB 11.7 MB/s eta 0:00:01\n",
      "   -------------------------- ------------- 8.6/13.2 MB 11.7 MB/s eta 0:00:01\n",
      "   --------------------------- ------------ 9.2/13.2 MB 11.7 MB/s eta 0:00:01\n",
      "   ----------------------------- ---------- 9.7/13.2 MB 11.9 MB/s eta 0:00:01\n",
      "   ------------------------------- -------- 10.2/13.2 MB 11.9 MB/s eta 0:00:01\n",
      "   -------------------------------- ------- 10.8/13.2 MB 11.9 MB/s eta 0:00:01\n",
      "   ---------------------------------- ----- 11.3/13.2 MB 11.9 MB/s eta 0:00:01\n",
      "   ------------------------------------ --- 11.9/13.2 MB 11.9 MB/s eta 0:00:01\n",
      "   ------------------------------------- -- 12.4/13.2 MB 11.9 MB/s eta 0:00:01\n",
      "   ---------------------------------------  13.0/13.2 MB 11.9 MB/s eta 0:00:01\n",
      "   ---------------------------------------  13.2/13.2 MB 11.9 MB/s eta 0:00:01\n",
      "   ---------------------------------------- 13.2/13.2 MB 10.9 MB/s eta 0:00:00\n",
      "Downloading python_docx-1.1.2-py3-none-any.whl (244 kB)\n",
      "   ---------------------------------------- 0.0/244.3 kB ? eta -:--:--\n",
      "   --------------------------------------- 244.3/244.3 kB 15.6 MB/s eta 0:00:00\n",
      "Using cached lxml-5.3.0-cp312-cp312-win_amd64.whl (3.8 MB)\n",
      "Installing collected packages: PyMuPDFb, lxml, python-docx, pymupdf\n",
      "Successfully installed PyMuPDFb-1.24.10 lxml-5.3.0 pymupdf-1.24.10 python-docx-1.1.2\n",
      "Note: you may need to restart the kernel to use updated packages.\n"
     ]
    },
    {
     "name": "stderr",
     "output_type": "stream",
     "text": [
      "\n",
      "[notice] A new release of pip is available: 24.0 -> 24.2\n",
      "[notice] To update, run: python.exe -m pip install --upgrade pip\n"
     ]
    }
   ],
   "source": [
    "pip install pymupdf python-docx\n"
   ]
  },
  {
   "cell_type": "code",
   "execution_count": 2,
   "metadata": {},
   "outputs": [
    {
     "name": "stdout",
     "output_type": "stream",
     "text": [
      "Running on local URL:  http://127.0.0.1:7861\n",
      "Running on public URL: https://127cd03db9e5d17619.gradio.live\n",
      "\n",
      "This share link expires in 72 hours. For free permanent hosting and GPU upgrades, run `gradio deploy` from Terminal to deploy to Spaces (https://huggingface.co/spaces)\n"
     ]
    },
    {
     "data": {
      "text/html": [
       "<div><iframe src=\"https://127cd03db9e5d17619.gradio.live\" width=\"100%\" height=\"500\" allow=\"autoplay; camera; microphone; clipboard-read; clipboard-write;\" frameborder=\"0\" allowfullscreen></iframe></div>"
      ],
      "text/plain": [
       "<IPython.core.display.HTML object>"
      ]
     },
     "metadata": {},
     "output_type": "display_data"
    }
   ],
   "source": [
    "#working letter and skills\n",
    "import gradio as gr\n",
    "from swarmauri.standard.llms.concrete.GroqModel import GroqModel\n",
    "from swarmauri.standard.agents.concrete.SimpleConversationAgent import SimpleConversationAgent\n",
    "from swarmauri.standard.conversations.concrete.Conversation import Conversation\n",
    "\n",
    "# Replace with your actual API key\n",
    "API_KEY = \"gsk_sVsIrZDMC3dhWW0J6dsssfn2WGdyb3FYbPxmSsfsfsf20xLsFe9xHgdvAad3E\"\n",
    "\n",
    "# Initialize the GroqModel\n",
    "llm = GroqModel(api_key=API_KEY)\n",
    "\n",
    "# Create a SimpleConversationAgent with the GroqModel\n",
    "conversation = Conversation()\n",
    "agent = SimpleConversationAgent(llm=llm, conversation=conversation)\n",
    "\n",
    "# Function to generate job application and skills\n",
    "def generate_application_and_skills(job_role, company_name):\n",
    "    # Create prompts for job application and must-have skills\n",
    "    application_prompt = (\n",
    "        f\"Generate a job application letter for the role of {job_role} at {company_name}.\"\n",
    "    )\n",
    "    \n",
    "    skills_prompt = (\n",
    "        f\"List the must-have skills for the role of {job_role} at {company_name}.\"\n",
    "    )\n",
    "    \n",
    "    # Get responses from the model\n",
    "    application_response = agent.exec(application_prompt)\n",
    "    skills_response = agent.exec(skills_prompt)\n",
    "    \n",
    "    return application_response, skills_response\n",
    "\n",
    "# Create the Gradio interface components\n",
    "demo = gr.Interface(\n",
    "    fn=generate_application_and_skills,\n",
    "    inputs=[\n",
    "        gr.Textbox(lines=1, placeholder=\"Enter the job role (e.g., Software Engineer)\", label=\"Job Role\"),\n",
    "        gr.Textbox(lines=1, placeholder=\"Enter the company name (e.g., Tech Corp)\", label=\"Company Name\")\n",
    "    ],\n",
    "    outputs=[\n",
    "        gr.Textbox(label=\"Job Application Letter\"),\n",
    "        gr.Textbox(label=\"Must-Have Skills\")\n",
    "    ],\n",
    "    title=\"Job Application Assistant\",\n",
    "    description=\"Enter the job role and company name to generate a job application letter and get a list of must-have skills for that role.\"\n",
    ")\n",
    "\n",
    "if __name__ == \"__main__\":\n",
    "    demo.launch(share=True)\n",
    "\n",
    "#if __name__ == \"__main__\":\n",
    "    #demo.launch(share=True)\n"
   ]
  },
  {
   "cell_type": "code",
   "execution_count": 16,
   "metadata": {},
   "outputs": [
    {
     "name": "stderr",
     "output_type": "stream",
     "text": [
      "d:\\Anupam\\ImageColorDetector\\GRO\\myenv\\Lib\\site-packages\\gradio\\utils.py:1002: UserWarning: Expected 2 arguments for function <function chatbot_response at 0x00000223B3170D60>, received 1.\n",
      "  warnings.warn(\n",
      "d:\\Anupam\\ImageColorDetector\\GRO\\myenv\\Lib\\site-packages\\gradio\\utils.py:1006: UserWarning: Expected at least 2 arguments for function <function chatbot_response at 0x00000223B3170D60>, received 1.\n",
      "  warnings.warn(\n"
     ]
    },
    {
     "name": "stdout",
     "output_type": "stream",
     "text": [
      "Running on local URL:  http://127.0.0.1:7872\n",
      "Running on public URL: https://931de0e7d4bcdcfe01.gradio.live\n",
      "\n",
      "This share link expires in 72 hours. For free permanent hosting and GPU upgrades, run `gradio deploy` from Terminal to deploy to Spaces (https://huggingface.co/spaces)\n"
     ]
    },
    {
     "data": {
      "text/html": [
       "<div><iframe src=\"https://931de0e7d4bcdcfe01.gradio.live\" width=\"100%\" height=\"500\" allow=\"autoplay; camera; microphone; clipboard-read; clipboard-write;\" frameborder=\"0\" allowfullscreen></iframe></div>"
      ],
      "text/plain": [
       "<IPython.core.display.HTML object>"
      ]
     },
     "metadata": {},
     "output_type": "display_data"
    },
    {
     "name": "stderr",
     "output_type": "stream",
     "text": [
      "d:\\Anupam\\ImageColorDetector\\GRO\\myenv\\Lib\\site-packages\\gradio\\helpers.py:978: UserWarning: Unexpected argument. Filling with None.\n",
      "  warnings.warn(\"Unexpected argument. Filling with None.\")\n"
     ]
    },
    {
     "name": "stdout",
     "output_type": "stream",
     "text": [
      "History: []\n",
      "History: []\n",
      "History: []\n",
      "History: []\n",
      "History: []\n",
      "History: []\n",
      "History: []\n",
      "History: []\n",
      "History: []\n",
      "History: []\n",
      "History: []\n",
      "History: []\n",
      "History: []\n",
      "History: []\n",
      "History: []\n",
      "History: []\n"
     ]
    }
   ],
   "source": [
    "import gradio as gr\n",
    "from swarmauri.standard.llms.concrete.GroqModel import GroqModel\n",
    "from swarmauri.standard.agents.concrete.SimpleConversationAgent import SimpleConversationAgent\n",
    "from swarmauri.standard.conversations.concrete.Conversation import Conversation\n",
    "\n",
    "# Replace with your actual API key\n",
    "API_KEY = \"gsk_sVsIrZDMC3dhWW0J6dsfdfgssfpaosfn2WGdyb3FYbPxmSt20xLsFe9xHgdvAad3E\"\n",
    "\n",
    "# Initialize the GroqModel\n",
    "llm = GroqModel(api_key=API_KEY)\n",
    "\n",
    "# Create a SimpleConversationAgent with the GroqModel\n",
    "conversation = Conversation()\n",
    "agent = SimpleConversationAgent(llm=llm, conversation=conversation)\n",
    "\n",
    "# Initialize the chatbot conversation history\n",
    "def initialize_history():\n",
    "    return []\n",
    "\n",
    "# Function to handle the chatbot interactions\n",
    "def chatbot_response(user_input, history):\n",
    "    # Ensure history is initialized\n",
    "    if history is None:\n",
    "        history = initialize_history()\n",
    "\n",
    "    # Debug: Print the history\n",
    "    print(\"History:\", history)\n",
    "\n",
    "    # Initialize the response and update the history\n",
    "    if len(history) == 0:\n",
    "        response = \"Hi! How can I assist you today?\"\n",
    "        history.append((\"Chatbot\", response))\n",
    "\n",
    "    elif len(history) == 1 and user_input.lower() == \"job assistance\":\n",
    "        response = \"Great! Please tell me the target company and job role you're interested in, separated by a comma.\"\n",
    "        history.append((\"User\", user_input))\n",
    "        history.append((\"Chatbot\", response))\n",
    "\n",
    "    elif len(history) == 2:\n",
    "        target_info = user_input.split(\",\")\n",
    "        if len(target_info) == 2:\n",
    "            company_name, job_role = target_info[0].strip(), target_info[1].strip()\n",
    "            response = (\n",
    "                \"Got it! Would you like help with:\\n\"\n",
    "                \"1. Writing a job application letter\\n\"\n",
    "                \"2. Understanding must-have skills for this role\\n\"\n",
    "                \"3. Finding course references to learn those skills\\n\"\n",
    "                \"Please type the number corresponding to your choice.\"\n",
    "            )\n",
    "            history.append((\"User\", user_input))\n",
    "            history.append((\"Chatbot\", response))\n",
    "        else:\n",
    "            response = \"Please provide the target company and job role in the format: 'Company Name, Job Role'.\"\n",
    "            history.append((\"User\", user_input))\n",
    "            history.append((\"Chatbot\", response))\n",
    "    \n",
    "    elif len(history) == 3:\n",
    "        if user_input == \"1\":\n",
    "            application_prompt = f\"Generate a job application letter for the role of {job_role} at {company_name}.\"\n",
    "            application_response = agent.exec(application_prompt)\n",
    "            response = f\"Here is your job application letter:\\n\\n{application_response}\"\n",
    "        elif user_input == \"2\":\n",
    "            skills_prompt = f\"List the must-have skills for the role of {job_role} at {company_name}.\"\n",
    "            skills_response = agent.exec(skills_prompt)\n",
    "            response = f\"Here are the must-have skills for this role:\\n\\n{skills_response}\"\n",
    "        elif user_input == \"3\":\n",
    "            courses_prompt = f\"Provide course references to learn the must-have skills for the role of {job_role} at {company_name}.\"\n",
    "            courses_response = agent.exec(courses_prompt)\n",
    "            response = f\"Here are some course references:\\n\\n{courses_response}\"\n",
    "        else:\n",
    "            response = \"Please choose a valid option: 1, 2, or 3.\"\n",
    "        \n",
    "        history.append((\"User\", user_input))\n",
    "        history.append((\"Chatbot\", response))\n",
    "\n",
    "    else:\n",
    "        response = \"I’m sorry, I didn’t understand that. Can you please specify what you need help with?\"\n",
    "        history.append((\"User\", user_input))\n",
    "        history.append((\"Chatbot\", response))\n",
    "    \n",
    "    return history\n",
    "\n",
    "# Create the Gradio interface components\n",
    "demo = gr.Interface(\n",
    "    fn=chatbot_response,\n",
    "    inputs=[gr.Textbox(placeholder=\"Type your message here...\", label=\"User Input\")],\n",
    "    outputs=[gr.Chatbot()],\n",
    "    title=\"Job Assistance Chatbot\",\n",
    "    description=\"Chat with the assistant to get help with job applications, skills, and courses.\"\n",
    ")\n",
    "\n",
    "if __name__ == \"__main__\":\n",
    "    demo.launch(share=True)\n"
   ]
  },
  {
   "cell_type": "code",
   "execution_count": 1,
   "metadata": {},
   "outputs": [
    {
     "name": "stderr",
     "output_type": "stream",
     "text": [
      "d:\\Anupam\\ImageColorDetector\\GRO\\myenv\\Lib\\site-packages\\tqdm\\auto.py:21: TqdmWarning: IProgress not found. Please update jupyter and ipywidgets. See https://ipywidgets.readthedocs.io/en/stable/user_install.html\n",
      "  from .autonotebook import tqdm as notebook_tqdm\n"
     ]
    },
    {
     "name": "stdout",
     "output_type": "stream",
     "text": [
      "Running on local URL:  http://127.0.0.1:7860\n",
      "Running on public URL: https://75fc2e41e8ccd2929d.gradio.live\n",
      "\n",
      "This share link expires in 72 hours. For free permanent hosting and GPU upgrades, run `gradio deploy` from Terminal to deploy to Spaces (https://huggingface.co/spaces)\n"
     ]
    },
    {
     "data": {
      "text/html": [
       "<div><iframe src=\"https://75fc2e41e8ccd2929d.gradio.live\" width=\"100%\" height=\"500\" allow=\"autoplay; camera; microphone; clipboard-read; clipboard-write;\" frameborder=\"0\" allowfullscreen></iframe></div>"
      ],
      "text/plain": [
       "<IPython.core.display.HTML object>"
      ]
     },
     "metadata": {},
     "output_type": "display_data"
    }
   ],
   "source": [
    "import gradio as gr\n",
    "from swarmauri.standard.llms.concrete.GroqModel import GroqModel\n",
    "from swarmauri.standard.agents.concrete.SimpleConversationAgent import SimpleConversationAgent\n",
    "from swarmauri.standard.conversations.concrete.Conversation import Conversation\n",
    "\n",
    "# Replace with your actual API key\n",
    "API_KEY = \"gsk_sVsIrZDMC3dhWW0J6dfn2WGdsdybppsd3FYbapghfrdkolsdhyd9xHgdvAad3E\"\n",
    "\n",
    "# Initialize the GroqModel\n",
    "llm = GroqModel(api_key=API_KEY)\n",
    "\n",
    "# Create a SimpleConversationAgent with the GroqModel\n",
    "conversation = Conversation()\n",
    "agent = SimpleConversationAgent(llm=llm, conversation=conversation)\n",
    "\n",
    "# Function to generate job application and skills\n",
    "def generate_application_and_skills(job_role, company_name):\n",
    "    try:\n",
    "        # Create prompts for job application and must-have skills\n",
    "        application_prompt = (\n",
    "            f\"Write a comprehensive, complete, and persuasive job application letter for the position of {job_role} at {company_name}. \"\n",
    "            \"The letter should include the following sections: introduction, relevant experience, qualifications, and a concluding statement on why the applicant is an excellent fit for the role. \"\n",
    "            \"Ensure the letter is well-structured and professionally written. End the letter with a proper closing, such as 'Thank you for considering my application. Regards,' followed by the applicant's name.\"\n",
    "        )\n",
    "        \n",
    "        skills_prompt = (\n",
    "            f\"Provide a detailed list of essential skills for a {job_role} at {company_name}. \"\n",
    "            \"Include descriptions of each skill and suggest courses or resources where one can learn these skills.\"\n",
    "        )\n",
    "        \n",
    "        # Get responses from the model\n",
    "        application_response = agent.exec(application_prompt)\n",
    "        skills_response = agent.exec(skills_prompt)\n",
    "        \n",
    "        # Check if responses are empty and handle accordingly\n",
    "        if not application_response:\n",
    "            application_response = \"No response generated for the application letter.\"\n",
    "        \n",
    "        if not skills_response:\n",
    "            skills_response = \"No response generated for the skills list.\"\n",
    "        \n",
    "        return application_response, skills_response\n",
    "\n",
    "    except Exception as e:\n",
    "        return f\"An error occurred: {e}\", \"An error occurred while generating skills.\"\n",
    "\n",
    "# Create the Gradio interface components\n",
    "demo = gr.Interface(\n",
    "    fn=generate_application_and_skills,\n",
    "    inputs=[\n",
    "        gr.Textbox(lines=1, placeholder=\"Enter the job role (e.g., Software Engineer)\", label=\"Job Role\"),\n",
    "        gr.Textbox(lines=1, placeholder=\"Enter the company name (e.g., Tech Corp)\", label=\"Company Name\")\n",
    "    ],\n",
    "    outputs=[\n",
    "        gr.Textbox(label=\"Job Application Letter\", lines=10, placeholder=\"The job application letter will appear here.\"),\n",
    "        gr.Textbox(label=\"Must-Have Skills and Courses\", lines=10, placeholder=\"The list of must-have skills and course references will appear here.\")\n",
    "    ],\n",
    "    title=\"Job Application Assistant\",\n",
    "    description=\"Enter the job role and company name to generate a job application letter and get a list of must-have skills along with course references for that role.\"\n",
    ")\n",
    "\n",
    "if __name__ == \"__main__\":\n",
    "    try:\n",
    "        demo.launch(share=True)\n",
    "    except Exception as e:\n",
    "        print(f\"An error occurred while launching the interface: {e}\")\n"
   ]
  }
 ],
 "metadata": {
  "kernelspec": {
   "display_name": "myenv",
   "language": "python",
   "name": "python3"
  },
  "language_info": {
   "codemirror_mode": {
    "name": "ipython",
    "version": 3
   },
   "file_extension": ".py",
   "mimetype": "text/x-python",
   "name": "python",
   "nbconvert_exporter": "python",
   "pygments_lexer": "ipython3",
   "version": "3.12.4"
  }
 },
 "nbformat": 4,
 "nbformat_minor": 2
}
