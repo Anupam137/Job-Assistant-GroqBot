{
 "cells": [
  {
   "cell_type": "code",
   "execution_count": 2,
   "metadata": {},
   "outputs": [
    {
     "name": "stdout",
     "output_type": "stream",
     "text": [
      "Note: you may need to restart the kernel to use updated packages.Requirement already satisfied: swarmauri in d:\\anupam\\imagecolordetector\\gro\\myenv\\lib\\site-packages (0.4.1)\n",
      "Requirement already satisfied: numpy in d:\\anupam\\imagecolordetector\\gro\\myenv\\lib\\site-packages (from swarmauri) (2.1.1)\n",
      "Requirement already satisfied: requests in d:\\anupam\\imagecolordetector\\gro\\myenv\\lib\\site-packages (from swarmauri) (2.32.3)\n",
      "Requirement already satisfied: pydantic in d:\\anupam\\imagecolordetector\\gro\\myenv\\lib\\site-packages (from swarmauri) (2.9.0)\n",
      "Requirement already satisfied: annotated-types>=0.4.0 in d:\\anupam\\imagecolordetector\\gro\\myenv\\lib\\site-packages (from pydantic->swarmauri) (0.7.0)\n",
      "Requirement already satisfied: pydantic-core==2.23.2 in d:\\anupam\\imagecolordetector\\gro\\myenv\\lib\\site-packages (from pydantic->swarmauri) (2.23.2)\n",
      "Requirement already satisfied: typing-extensions>=4.6.1 in d:\\anupam\\imagecolordetector\\gro\\myenv\\lib\\site-packages (from pydantic->swarmauri) (4.12.2)\n",
      "Requirement already satisfied: tzdata in d:\\anupam\\imagecolordetector\\gro\\myenv\\lib\\site-packages (from pydantic->swarmauri) (2024.1)\n",
      "Requirement already satisfied: charset-normalizer<4,>=2 in d:\\anupam\\imagecolordetector\\gro\\myenv\\lib\\site-packages (from requests->swarmauri) (3.3.2)\n",
      "Requirement already satisfied: idna<4,>=2.5 in d:\\anupam\\imagecolordetector\\gro\\myenv\\lib\\site-packages (from requests->swarmauri) (3.8)\n",
      "Requirement already satisfied: urllib3<3,>=1.21.1 in d:\\anupam\\imagecolordetector\\gro\\myenv\\lib\\site-packages (from requests->swarmauri) (2.2.2)\n",
      "Requirement already satisfied: certifi>=2017.4.17 in d:\\anupam\\imagecolordetector\\gro\\myenv\\lib\\site-packages (from requests->swarmauri) (2024.8.30)\n",
      "\n"
     ]
    },
    {
     "name": "stderr",
     "output_type": "stream",
     "text": [
      "\n",
      "[notice] A new release of pip is available: 24.0 -> 24.2\n",
      "[notice] To update, run: python.exe -m pip install --upgrade pip\n"
     ]
    }
   ],
   "source": [
    "pip install swarmauri"
   ]
  },
  {
   "cell_type": "code",
   "execution_count": 5,
   "metadata": {},
   "outputs": [
    {
     "name": "stderr",
     "output_type": "stream",
     "text": [
      "d:\\Anupam\\ImageColorDetector\\GRO\\myenv\\Lib\\site-packages\\tqdm\\auto.py:21: TqdmWarning: IProgress not found. Please update jupyter and ipywidgets. See https://ipywidgets.readthedocs.io/en/stable/user_install.html\n",
      "  from .autonotebook import tqdm as notebook_tqdm\n"
     ]
    }
   ],
   "source": [
    "import os\n",
    "import gradio as gr\n",
    "from swarmauri.standard.llms.concrete.GroqModel import GroqModel\n",
    "from swarmauri.standard.agents.concrete.SimpleConversationAgent import SimpleConversationAgent\n",
    "from swarmauri.standard.conversations.concrete.Conversation import Conversation"
   ]
  },
  {
   "cell_type": "code",
   "execution_count": 4,
   "metadata": {},
   "outputs": [
    {
     "name": "stdout",
     "output_type": "stream",
     "text": [
      "Collecting gradio\n",
      "  Using cached gradio-4.43.0-py3-none-any.whl.metadata (15 kB)\n",
      "Collecting aiofiles<24.0,>=22.0 (from gradio)\n",
      "  Using cached aiofiles-23.2.1-py3-none-any.whl.metadata (9.7 kB)\n",
      "Requirement already satisfied: anyio<5.0,>=3.0 in d:\\anupam\\imagecolordetector\\gro\\myenv\\lib\\site-packages (from gradio) (4.4.0)\n",
      "Collecting fastapi<0.113.0 (from gradio)\n",
      "  Downloading fastapi-0.112.4-py3-none-any.whl.metadata (27 kB)\n",
      "Collecting ffmpy (from gradio)\n",
      "  Using cached ffmpy-0.4.0-py3-none-any.whl.metadata (2.9 kB)\n",
      "Collecting gradio-client==1.3.0 (from gradio)\n",
      "  Using cached gradio_client-1.3.0-py3-none-any.whl.metadata (7.1 kB)\n",
      "Requirement already satisfied: httpx>=0.24.1 in d:\\anupam\\imagecolordetector\\gro\\myenv\\lib\\site-packages (from gradio) (0.27.2)\n",
      "Collecting huggingface-hub>=0.19.3 (from gradio)\n",
      "  Using cached huggingface_hub-0.24.6-py3-none-any.whl.metadata (13 kB)\n",
      "Collecting importlib-resources<7.0,>=1.3 (from gradio)\n",
      "  Using cached importlib_resources-6.4.4-py3-none-any.whl.metadata (4.0 kB)\n",
      "Collecting jinja2<4.0 (from gradio)\n",
      "  Using cached jinja2-3.1.4-py3-none-any.whl.metadata (2.6 kB)\n",
      "Collecting markupsafe~=2.0 (from gradio)\n",
      "  Using cached MarkupSafe-2.1.5-cp312-cp312-win_amd64.whl.metadata (3.1 kB)\n",
      "Collecting matplotlib~=3.0 (from gradio)\n",
      "  Downloading matplotlib-3.9.2-cp312-cp312-win_amd64.whl.metadata (11 kB)\n",
      "Requirement already satisfied: numpy<3.0,>=1.0 in d:\\anupam\\imagecolordetector\\gro\\myenv\\lib\\site-packages (from gradio) (2.1.1)\n",
      "Collecting orjson~=3.0 (from gradio)\n",
      "  Using cached orjson-3.10.7-cp312-none-win_amd64.whl.metadata (51 kB)\n",
      "Requirement already satisfied: packaging in d:\\anupam\\imagecolordetector\\gro\\myenv\\lib\\site-packages (from gradio) (24.1)\n",
      "Collecting pandas<3.0,>=1.0 (from gradio)\n",
      "  Using cached pandas-2.2.2-cp312-cp312-win_amd64.whl.metadata (19 kB)\n",
      "Collecting pillow<11.0,>=8.0 (from gradio)\n",
      "  Using cached pillow-10.4.0-cp312-cp312-win_amd64.whl.metadata (9.3 kB)\n",
      "Requirement already satisfied: pydantic>=2.0 in d:\\anupam\\imagecolordetector\\gro\\myenv\\lib\\site-packages (from gradio) (2.9.0)\n",
      "Collecting pydub (from gradio)\n",
      "  Using cached pydub-0.25.1-py2.py3-none-any.whl.metadata (1.4 kB)\n",
      "Collecting python-multipart>=0.0.9 (from gradio)\n",
      "  Using cached python_multipart-0.0.9-py3-none-any.whl.metadata (2.5 kB)\n",
      "Collecting pyyaml<7.0,>=5.0 (from gradio)\n",
      "  Using cached PyYAML-6.0.2-cp312-cp312-win_amd64.whl.metadata (2.1 kB)\n",
      "Collecting ruff>=0.2.2 (from gradio)\n",
      "  Using cached ruff-0.6.4-py3-none-win_amd64.whl.metadata (25 kB)\n",
      "Collecting semantic-version~=2.0 (from gradio)\n",
      "  Using cached semantic_version-2.10.0-py2.py3-none-any.whl.metadata (9.7 kB)\n",
      "Collecting tomlkit==0.12.0 (from gradio)\n",
      "  Using cached tomlkit-0.12.0-py3-none-any.whl.metadata (2.7 kB)\n",
      "Collecting typer<1.0,>=0.12 (from gradio)\n",
      "  Using cached typer-0.12.5-py3-none-any.whl.metadata (15 kB)\n",
      "Requirement already satisfied: typing-extensions~=4.0 in d:\\anupam\\imagecolordetector\\gro\\myenv\\lib\\site-packages (from gradio) (4.12.2)\n",
      "Requirement already satisfied: urllib3~=2.0 in d:\\anupam\\imagecolordetector\\gro\\myenv\\lib\\site-packages (from gradio) (2.2.2)\n",
      "Collecting uvicorn>=0.14.0 (from gradio)\n",
      "  Using cached uvicorn-0.30.6-py3-none-any.whl.metadata (6.6 kB)\n",
      "Collecting fsspec (from gradio-client==1.3.0->gradio)\n",
      "  Downloading fsspec-2024.9.0-py3-none-any.whl.metadata (11 kB)\n",
      "Collecting websockets<13.0,>=10.0 (from gradio-client==1.3.0->gradio)\n",
      "  Using cached websockets-12.0-cp312-cp312-win_amd64.whl.metadata (6.8 kB)\n",
      "Requirement already satisfied: idna>=2.8 in d:\\anupam\\imagecolordetector\\gro\\myenv\\lib\\site-packages (from anyio<5.0,>=3.0->gradio) (3.8)\n",
      "Requirement already satisfied: sniffio>=1.1 in d:\\anupam\\imagecolordetector\\gro\\myenv\\lib\\site-packages (from anyio<5.0,>=3.0->gradio) (1.3.1)\n",
      "Collecting starlette<0.39.0,>=0.37.2 (from fastapi<0.113.0->gradio)\n",
      "  Downloading starlette-0.38.5-py3-none-any.whl.metadata (6.0 kB)\n",
      "Requirement already satisfied: certifi in d:\\anupam\\imagecolordetector\\gro\\myenv\\lib\\site-packages (from httpx>=0.24.1->gradio) (2024.8.30)\n",
      "Requirement already satisfied: httpcore==1.* in d:\\anupam\\imagecolordetector\\gro\\myenv\\lib\\site-packages (from httpx>=0.24.1->gradio) (1.0.5)\n",
      "Requirement already satisfied: h11<0.15,>=0.13 in d:\\anupam\\imagecolordetector\\gro\\myenv\\lib\\site-packages (from httpcore==1.*->httpx>=0.24.1->gradio) (0.14.0)\n",
      "Collecting filelock (from huggingface-hub>=0.19.3->gradio)\n",
      "  Downloading filelock-3.16.0-py3-none-any.whl.metadata (3.0 kB)\n",
      "Requirement already satisfied: requests in d:\\anupam\\imagecolordetector\\gro\\myenv\\lib\\site-packages (from huggingface-hub>=0.19.3->gradio) (2.32.3)\n",
      "Collecting tqdm>=4.42.1 (from huggingface-hub>=0.19.3->gradio)\n",
      "  Using cached tqdm-4.66.5-py3-none-any.whl.metadata (57 kB)\n",
      "Collecting contourpy>=1.0.1 (from matplotlib~=3.0->gradio)\n",
      "  Downloading contourpy-1.3.0-cp312-cp312-win_amd64.whl.metadata (5.4 kB)\n",
      "Collecting cycler>=0.10 (from matplotlib~=3.0->gradio)\n",
      "  Using cached cycler-0.12.1-py3-none-any.whl.metadata (3.8 kB)\n",
      "Collecting fonttools>=4.22.0 (from matplotlib~=3.0->gradio)\n",
      "  Downloading fonttools-4.53.1-cp312-cp312-win_amd64.whl.metadata (165 kB)\n",
      "     ---------------------------------------- 0.0/165.9 kB ? eta -:--:--\n",
      "     -------------------------------------- 165.9/165.9 kB 5.0 MB/s eta 0:00:00\n",
      "Collecting kiwisolver>=1.3.1 (from matplotlib~=3.0->gradio)\n",
      "  Downloading kiwisolver-1.4.7-cp312-cp312-win_amd64.whl.metadata (6.4 kB)\n",
      "Collecting pyparsing>=2.3.1 (from matplotlib~=3.0->gradio)\n",
      "  Downloading pyparsing-3.1.4-py3-none-any.whl.metadata (5.1 kB)\n",
      "Requirement already satisfied: python-dateutil>=2.7 in d:\\anupam\\imagecolordetector\\gro\\myenv\\lib\\site-packages (from matplotlib~=3.0->gradio) (2.9.0.post0)\n",
      "Collecting pytz>=2020.1 (from pandas<3.0,>=1.0->gradio)\n",
      "  Using cached pytz-2024.1-py2.py3-none-any.whl.metadata (22 kB)\n",
      "Requirement already satisfied: tzdata>=2022.7 in d:\\anupam\\imagecolordetector\\gro\\myenv\\lib\\site-packages (from pandas<3.0,>=1.0->gradio) (2024.1)\n",
      "Requirement already satisfied: annotated-types>=0.4.0 in d:\\anupam\\imagecolordetector\\gro\\myenv\\lib\\site-packages (from pydantic>=2.0->gradio) (0.7.0)\n",
      "Requirement already satisfied: pydantic-core==2.23.2 in d:\\anupam\\imagecolordetector\\gro\\myenv\\lib\\site-packages (from pydantic>=2.0->gradio) (2.23.2)\n",
      "Collecting click>=8.0.0 (from typer<1.0,>=0.12->gradio)\n",
      "  Using cached click-8.1.7-py3-none-any.whl.metadata (3.0 kB)\n",
      "Collecting shellingham>=1.3.0 (from typer<1.0,>=0.12->gradio)\n",
      "  Using cached shellingham-1.5.4-py2.py3-none-any.whl.metadata (3.5 kB)\n",
      "Collecting rich>=10.11.0 (from typer<1.0,>=0.12->gradio)\n",
      "  Using cached rich-13.8.0-py3-none-any.whl.metadata (18 kB)\n",
      "Requirement already satisfied: colorama in d:\\anupam\\imagecolordetector\\gro\\myenv\\lib\\site-packages (from click>=8.0.0->typer<1.0,>=0.12->gradio) (0.4.6)\n",
      "Requirement already satisfied: six>=1.5 in d:\\anupam\\imagecolordetector\\gro\\myenv\\lib\\site-packages (from python-dateutil>=2.7->matplotlib~=3.0->gradio) (1.16.0)\n",
      "Collecting markdown-it-py>=2.2.0 (from rich>=10.11.0->typer<1.0,>=0.12->gradio)\n",
      "  Using cached markdown_it_py-3.0.0-py3-none-any.whl.metadata (6.9 kB)\n",
      "Requirement already satisfied: pygments<3.0.0,>=2.13.0 in d:\\anupam\\imagecolordetector\\gro\\myenv\\lib\\site-packages (from rich>=10.11.0->typer<1.0,>=0.12->gradio) (2.18.0)\n",
      "Requirement already satisfied: charset-normalizer<4,>=2 in d:\\anupam\\imagecolordetector\\gro\\myenv\\lib\\site-packages (from requests->huggingface-hub>=0.19.3->gradio) (3.3.2)\n",
      "Collecting mdurl~=0.1 (from markdown-it-py>=2.2.0->rich>=10.11.0->typer<1.0,>=0.12->gradio)\n",
      "  Using cached mdurl-0.1.2-py3-none-any.whl.metadata (1.6 kB)\n",
      "Using cached gradio-4.43.0-py3-none-any.whl (18.1 MB)\n",
      "Using cached gradio_client-1.3.0-py3-none-any.whl (318 kB)\n",
      "Using cached tomlkit-0.12.0-py3-none-any.whl (37 kB)\n",
      "Using cached aiofiles-23.2.1-py3-none-any.whl (15 kB)\n",
      "Downloading fastapi-0.112.4-py3-none-any.whl (93 kB)\n",
      "   ---------------------------------------- 0.0/93.9 kB ? eta -:--:--\n",
      "   ---------------------------------------- 93.9/93.9 kB 5.2 MB/s eta 0:00:00\n",
      "Using cached huggingface_hub-0.24.6-py3-none-any.whl (417 kB)\n",
      "Using cached importlib_resources-6.4.4-py3-none-any.whl (35 kB)\n",
      "Using cached jinja2-3.1.4-py3-none-any.whl (133 kB)\n",
      "Using cached MarkupSafe-2.1.5-cp312-cp312-win_amd64.whl (17 kB)\n",
      "Downloading matplotlib-3.9.2-cp312-cp312-win_amd64.whl (7.8 MB)\n",
      "   ---------------------------------------- 0.0/7.8 MB ? eta -:--:--\n",
      "   -- ------------------------------------- 0.5/7.8 MB 15.2 MB/s eta 0:00:01\n",
      "   ----- ---------------------------------- 1.0/7.8 MB 13.0 MB/s eta 0:00:01\n",
      "   -------- ------------------------------- 1.6/7.8 MB 12.5 MB/s eta 0:00:01\n",
      "   ---------- ----------------------------- 2.1/7.8 MB 12.3 MB/s eta 0:00:01\n",
      "   ------------- -------------------------- 2.7/7.8 MB 12.1 MB/s eta 0:00:01\n",
      "   ---------------- ----------------------- 3.2/7.8 MB 12.0 MB/s eta 0:00:01\n",
      "   ------------------- -------------------- 3.8/7.8 MB 12.0 MB/s eta 0:00:01\n",
      "   --------------------- ------------------ 4.2/7.8 MB 12.1 MB/s eta 0:00:01\n",
      "   ------------------------ --------------- 4.8/7.8 MB 11.9 MB/s eta 0:00:01\n",
      "   --------------------------- ------------ 5.4/7.8 MB 11.9 MB/s eta 0:00:01\n",
      "   ------------------------------ --------- 5.9/7.8 MB 11.9 MB/s eta 0:00:01\n",
      "   --------------------------------- ------ 6.5/7.8 MB 12.2 MB/s eta 0:00:01\n",
      "   ----------------------------------- ---- 7.0/7.8 MB 11.8 MB/s eta 0:00:01\n",
      "   -------------------------------------- - 7.6/7.8 MB 12.1 MB/s eta 0:00:01\n",
      "   ---------------------------------------  7.8/7.8 MB 11.9 MB/s eta 0:00:01\n",
      "   ---------------------------------------  7.8/7.8 MB 11.9 MB/s eta 0:00:01\n",
      "   ---------------------------------------- 7.8/7.8 MB 10.4 MB/s eta 0:00:00\n",
      "Using cached orjson-3.10.7-cp312-none-win_amd64.whl (137 kB)\n",
      "Using cached pandas-2.2.2-cp312-cp312-win_amd64.whl (11.5 MB)\n",
      "Using cached pillow-10.4.0-cp312-cp312-win_amd64.whl (2.6 MB)\n",
      "Using cached python_multipart-0.0.9-py3-none-any.whl (22 kB)\n",
      "Using cached PyYAML-6.0.2-cp312-cp312-win_amd64.whl (156 kB)\n",
      "Using cached ruff-0.6.4-py3-none-win_amd64.whl (8.8 MB)\n",
      "Using cached semantic_version-2.10.0-py2.py3-none-any.whl (15 kB)\n",
      "Using cached typer-0.12.5-py3-none-any.whl (47 kB)\n",
      "Using cached uvicorn-0.30.6-py3-none-any.whl (62 kB)\n",
      "Using cached ffmpy-0.4.0-py3-none-any.whl (5.8 kB)\n",
      "Using cached pydub-0.25.1-py2.py3-none-any.whl (32 kB)\n",
      "Using cached click-8.1.7-py3-none-any.whl (97 kB)\n",
      "Downloading contourpy-1.3.0-cp312-cp312-win_amd64.whl (218 kB)\n",
      "   ---------------------------------------- 0.0/218.3 kB ? eta -:--:--\n",
      "   ---------------------------------------- 218.3/218.3 kB 6.7 MB/s eta 0:00:00\n",
      "Using cached cycler-0.12.1-py3-none-any.whl (8.3 kB)\n",
      "Downloading fonttools-4.53.1-cp312-cp312-win_amd64.whl (2.2 MB)\n",
      "   ---------------------------------------- 0.0/2.2 MB ? eta -:--:--\n",
      "   ---------- ----------------------------- 0.6/2.2 MB 12.2 MB/s eta 0:00:01\n",
      "   -------------------- ------------------- 1.1/2.2 MB 12.0 MB/s eta 0:00:01\n",
      "   ------------------------------- -------- 1.7/2.2 MB 12.0 MB/s eta 0:00:01\n",
      "   ---------------------------------------  2.2/2.2 MB 12.7 MB/s eta 0:00:01\n",
      "   ---------------------------------------- 2.2/2.2 MB 10.8 MB/s eta 0:00:00\n",
      "Downloading fsspec-2024.9.0-py3-none-any.whl (179 kB)\n",
      "   ---------------------------------------- 0.0/179.3 kB ? eta -:--:--\n",
      "   --------------------------------------- 179.3/179.3 kB 10.6 MB/s eta 0:00:00\n",
      "Downloading kiwisolver-1.4.7-cp312-cp312-win_amd64.whl (55 kB)\n",
      "   ---------------------------------------- 0.0/55.9 kB ? eta -:--:--\n",
      "   ---------------------------------------- 55.9/55.9 kB ? eta 0:00:00\n",
      "Downloading pyparsing-3.1.4-py3-none-any.whl (104 kB)\n",
      "   ---------------------------------------- 0.0/104.1 kB ? eta -:--:--\n",
      "   ---------------------------------------- 104.1/104.1 kB 5.9 MB/s eta 0:00:00\n",
      "Using cached pytz-2024.1-py2.py3-none-any.whl (505 kB)\n",
      "Using cached rich-13.8.0-py3-none-any.whl (241 kB)\n",
      "Using cached shellingham-1.5.4-py2.py3-none-any.whl (9.8 kB)\n",
      "Downloading starlette-0.38.5-py3-none-any.whl (71 kB)\n",
      "   ---------------------------------------- 0.0/71.4 kB ? eta -:--:--\n",
      "   ---------------------------------------- 71.4/71.4 kB 4.1 MB/s eta 0:00:00\n",
      "Using cached tqdm-4.66.5-py3-none-any.whl (78 kB)\n",
      "Using cached websockets-12.0-cp312-cp312-win_amd64.whl (124 kB)\n",
      "Downloading filelock-3.16.0-py3-none-any.whl (16 kB)\n",
      "Using cached markdown_it_py-3.0.0-py3-none-any.whl (87 kB)\n",
      "Using cached mdurl-0.1.2-py3-none-any.whl (10.0 kB)\n",
      "Installing collected packages: pytz, pydub, websockets, tqdm, tomlkit, shellingham, semantic-version, ruff, pyyaml, python-multipart, pyparsing, pillow, orjson, mdurl, markupsafe, kiwisolver, importlib-resources, fsspec, fonttools, filelock, ffmpy, cycler, contourpy, click, aiofiles, uvicorn, starlette, pandas, matplotlib, markdown-it-py, jinja2, huggingface-hub, rich, gradio-client, fastapi, typer, gradio\n",
      "Successfully installed aiofiles-23.2.1 click-8.1.7 contourpy-1.3.0 cycler-0.12.1 fastapi-0.112.4 ffmpy-0.4.0 filelock-3.16.0 fonttools-4.53.1 fsspec-2024.9.0 gradio-4.43.0 gradio-client-1.3.0 huggingface-hub-0.24.6 importlib-resources-6.4.4 jinja2-3.1.4 kiwisolver-1.4.7 markdown-it-py-3.0.0 markupsafe-2.1.5 matplotlib-3.9.2 mdurl-0.1.2 orjson-3.10.7 pandas-2.2.2 pillow-10.4.0 pydub-0.25.1 pyparsing-3.1.4 python-multipart-0.0.9 pytz-2024.1 pyyaml-6.0.2 rich-13.8.0 ruff-0.6.4 semantic-version-2.10.0 shellingham-1.5.4 starlette-0.38.5 tomlkit-0.12.0 tqdm-4.66.5 typer-0.12.5 uvicorn-0.30.6 websockets-12.0\n",
      "Note: you may need to restart the kernel to use updated packages.\n"
     ]
    },
    {
     "name": "stderr",
     "output_type": "stream",
     "text": [
      "\n",
      "[notice] A new release of pip is available: 24.0 -> 24.2\n",
      "[notice] To update, run: python.exe -m pip install --upgrade pip\n"
     ]
    }
   ],
   "source": [
    "pip install gradio"
   ]
  },
  {
   "cell_type": "code",
   "execution_count": 8,
   "metadata": {},
   "outputs": [],
   "source": [
    "API_KEY = \"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\"\n",
    "\n",
    "# Initialize the GroqModel\n",
    "llm = GroqModel(api_key=API_KEY)\n",
    "\n",
    "# Create a SimpleConversationAgent with the GroqModel\n",
    "conversation = Conversation()\n",
    "agent = SimpleConversationAgent(llm=llm, conversation=conversation)"
   ]
  },
  {
   "cell_type": "code",
   "execution_count": 9,
   "metadata": {},
   "outputs": [],
   "source": [
    "# Define the function to be executed for the gradio interface\n",
    "def converse(input_text, history):\n",
    "    result = agent.exec(input_text)\n",
    "    return result\n",
    "\n",
    "# Create the Gradio interface components\n",
    "demo = gr.ChatInterface(\n",
    "    fn=converse,\n",
    "    examples=[\"Hello!\"],\n",
    "    title=\"Ask me anything!\",\n",
    "    multimodal=False,\n",
    ")"
   ]
  },
  {
   "cell_type": "code",
   "execution_count": 10,
   "metadata": {},
   "outputs": [
    {
     "name": "stdout",
     "output_type": "stream",
     "text": [
      "Running on local URL:  http://127.0.0.1:7860\n",
      "Running on public URL: https://9b85d36aec51e8e440.gradio.live\n",
      "\n",
      "This share link expires in 72 hours. For free permanent hosting and GPU upgrades, run `gradio deploy` from Terminal to deploy to Spaces (https://huggingface.co/spaces)\n"
     ]
    },
    {
     "data": {
      "text/html": [
       "<div><iframe src=\"https://9b85d36aec51e8e440.gradio.live\" width=\"100%\" height=\"500\" allow=\"autoplay; camera; microphone; clipboard-read; clipboard-write;\" frameborder=\"0\" allowfullscreen></iframe></div>"
      ],
      "text/plain": [
       "<IPython.core.display.HTML object>"
      ]
     },
     "metadata": {},
     "output_type": "display_data"
    }
   ],
   "source": [
    "if __name__ == \"__main__\":\n",
    "    demo.launch(share=True)"
   ]
  }
 ],
 "metadata": {
  "kernelspec": {
   "display_name": "myenv",
   "language": "python",
   "name": "python3"
  },
  "language_info": {
   "codemirror_mode": {
    "name": "ipython",
    "version": 3
   },
   "file_extension": ".py",
   "mimetype": "text/x-python",
   "name": "python",
   "nbconvert_exporter": "python",
   "pygments_lexer": "ipython3",
   "version": "3.12.4"
  }
 },
 "nbformat": 4,
 "nbformat_minor": 2
}
